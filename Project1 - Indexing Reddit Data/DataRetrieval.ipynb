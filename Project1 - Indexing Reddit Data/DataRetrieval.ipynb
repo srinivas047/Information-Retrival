{
  "cells": [
    {
      "cell_type": "code",
      "execution_count": null,
      "metadata": {
        "id": "2epp8-Uicui7"
      },
      "outputs": [],
      "source": [
        "import requests\n",
        "import pandas as pd\n",
        "import re\n",
        "import numpy as np"
      ]
    },
    {
      "cell_type": "code",
      "execution_count": null,
      "metadata": {
        "id": "ws_LMw0Dcztg"
      },
      "outputs": [],
      "source": [
        "# def get_data(url):\n",
        "#     request = requests.get(url)\n",
        "#     json_response = request.json()\n",
        "#     return json_response"
      ]
    },
    {
      "cell_type": "code",
      "execution_count": null,
      "metadata": {
        "id": "8oIWH6oYc4QD"
      },
      "outputs": [],
      "source": [
        "# query=\"seo\" #Define Your Query\n",
        "# url = f\"https://api.pushshift.io/reddit/search/comment/?q={query}\"\n",
        "# seo = get_data(url)"
      ]
    },
    {
      "cell_type": "code",
      "execution_count": null,
      "metadata": {
        "colab": {
          "base_uri": "https://localhost:8080/"
        },
        "id": "GMZiW7aNc8EE",
        "outputId": "03c378e8-bf4e-4fc8-aa29-174d9517deb8"
      },
      "outputs": [
        {
          "output_type": "stream",
          "name": "stdout",
          "text": [
            "Looking in indexes: https://pypi.org/simple, https://us-python.pkg.dev/colab-wheels/public/simple/\n",
            "Requirement already satisfied: psaw in /usr/local/lib/python3.7/dist-packages (0.1.0)\n",
            "Requirement already satisfied: Click in /usr/local/lib/python3.7/dist-packages (from psaw) (7.1.2)\n",
            "Requirement already satisfied: requests in /usr/local/lib/python3.7/dist-packages (from psaw) (2.23.0)\n",
            "Requirement already satisfied: idna<3,>=2.5 in /usr/local/lib/python3.7/dist-packages (from requests->psaw) (2.10)\n",
            "Requirement already satisfied: certifi>=2017.4.17 in /usr/local/lib/python3.7/dist-packages (from requests->psaw) (2022.6.15)\n",
            "Requirement already satisfied: chardet<4,>=3.0.2 in /usr/local/lib/python3.7/dist-packages (from requests->psaw) (3.0.4)\n",
            "Requirement already satisfied: urllib3!=1.25.0,!=1.25.1,<1.26,>=1.21.1 in /usr/local/lib/python3.7/dist-packages (from requests->psaw) (1.24.3)\n"
          ]
        }
      ],
      "source": [
        "!pip install psaw\n",
        "from psaw import PushshiftAPI\n",
        "api = PushshiftAPI()"
      ]
    },
    {
      "cell_type": "code",
      "execution_count": null,
      "metadata": {
        "id": "YqjBBPBK1-zp"
      },
      "outputs": [],
      "source": [
        "# Helper Functions\n",
        "def removed(df, type): #return the percentage of removed submissions or comments\n",
        "  \n",
        "  total_rows = len(df)\n",
        "  if type == 'sub':\n",
        "    removed_rows = len(df.loc[df['selftext'] == '[removed]']) + len(df.loc[df['selftext'] == '[deleted]'])\n",
        "    removed_precentage = (1- ((total_rows - removed_rows)/total_rows)) * 100\n",
        "    print(\"submissions containing [removed] or [deleted] in selftext: \", round(removed_precentage, 3))\n",
        "  elif type == 'com':\n",
        "    removed_rows = len(df.loc[df['body'] == '[removed]']) + len(df.loc[df['body'] == '[deleted]'])\n",
        "    removed_precentage = (1- ((total_rows - removed_rows)/total_rows)) * 100\n",
        "    print(\"comments containing [removed] or [deleted] in body: \", round(removed_precentage, 3))\n",
        "  else:\n",
        "    removed_rows = len(df.loc[df['body'] == '[removed]']) + len(df.loc[df['body'] == '[deleted]']) + len(df.loc[df['selftext'] == '[removed]']) + len(df.loc[df['selftext'] == '[deleted]'])\n",
        "    removed_precentage = (1- ((total_rows - removed_rows)/total_rows)) * 100\n",
        "    print(\"comments/submissions containing [removed] or [deleted] in body: \", round(removed_precentage, 3))"
      ]
    },
    {
      "cell_type": "code",
      "execution_count": null,
      "metadata": {
        "id": "kD6_2ykDdK5d"
      },
      "outputs": [],
      "source": [
        "############################## GET SUBMISSIONS ##############################\n",
        "def getSubmissions(topics, limit, num_comments):\n",
        "  submissions_df1 = pd.DataFrame()\n",
        "  for i in topics:\n",
        "    gen = api.search_submissions(subreddit=i, # one or more subreddits to include in the search\n",
        "                                filter=['subreddit','id','url','author', 'title', 'score',\n",
        "                                          'subreddit','selftext','num_comments'], # list of fields to return\n",
        "                                limit = limit, # limit on the number of records returned\n",
        "                                num_comments=num_comments,\n",
        "                                ) \n",
        "    submission_df = pd.DataFrame(list(gen))\n",
        "    submissions_df1 = pd.concat([submissions_df1,submission_df])\n",
        "\n",
        "  return submissions_df1"
      ]
    },
    {
      "cell_type": "code",
      "execution_count": null,
      "metadata": {
        "id": "g3ebdZkAVTUe",
        "colab": {
          "base_uri": "https://localhost:8080/"
        },
        "outputId": "e4fbfb6a-2461-46e2-a692-2e607d8a3264"
      },
      "outputs": [
        {
          "output_type": "stream",
          "name": "stderr",
          "text": [
            "/usr/local/lib/python3.7/dist-packages/psaw/PushshiftAPI.py:252: UserWarning: Not all PushShift shards are active. Query results may be incomplete\n",
            "  warnings.warn(shards_down_message)\n"
          ]
        }
      ],
      "source": [
        "#Get a minimum of 100 submissions from each of these subreddits:\n",
        "topics1 = ['ExplainLikeImFive', 'FoodForThought','ChangeMyView', 'TodayILearned']\n",
        "submissions_df1 = getSubmissions(topics1, 150, \">20\")"
      ]
    },
    {
      "cell_type": "code",
      "execution_count": null,
      "metadata": {
        "colab": {
          "base_uri": "https://localhost:8080/"
        },
        "id": "ym9R_sp43eX-",
        "outputId": "95e09c04-9331-4249-ddaf-19652c0cc858"
      },
      "outputs": [
        {
          "output_type": "stream",
          "name": "stdout",
          "text": [
            "Total rows:  600\n"
          ]
        }
      ],
      "source": [
        "# total rows\n",
        "print(\"Total rows: \", len(submissions_df1))"
      ]
    },
    {
      "cell_type": "code",
      "execution_count": null,
      "metadata": {
        "colab": {
          "base_uri": "https://localhost:8080/"
        },
        "id": "UdmkxKdCdQrU",
        "outputId": "ff295c63-9b71-45fc-a928-22849ac08a8f"
      },
      "outputs": [
        {
          "output_type": "stream",
          "name": "stdout",
          "text": [
            "submissions containing [removed] or [deleted] in selftext:  2.5\n"
          ]
        }
      ],
      "source": [
        "# submissions containing [removed] or [deleted] in selftext\n",
        "removed(submissions_df1, 'sub')"
      ]
    },
    {
      "cell_type": "code",
      "execution_count": null,
      "metadata": {
        "id": "RQqYkcaIxhAi"
      },
      "outputs": [],
      "source": [
        "# Get a minimum of 200 submissions for each of these topics\n",
        "topics2 = ['AmericanPolitics', 'worldpolitics', 'government','tentree', 'nature', 'gardening','technology',\n",
        "          'tech', 'gaming','bodybeast','briskwalking','crossfit','education', 'teaching', 'UniversityofReddit']\n",
        "\n",
        "submissions_df2 = getSubmissions(topics2, 250, \">20\")\n"
      ]
    },
    {
      "cell_type": "code",
      "execution_count": null,
      "metadata": {
        "colab": {
          "base_uri": "https://localhost:8080/"
        },
        "id": "vk6GmpE43LsW",
        "outputId": "3dd03b68-7281-4c96-8c31-05eae994821a"
      },
      "outputs": [
        {
          "output_type": "stream",
          "name": "stdout",
          "text": [
            "Total rows:  2780\n"
          ]
        }
      ],
      "source": [
        "# total rows\n",
        "print(\"Total rows: \", len(submissions_df2))"
      ]
    },
    {
      "cell_type": "code",
      "execution_count": null,
      "metadata": {
        "colab": {
          "base_uri": "https://localhost:8080/"
        },
        "id": "xG2EzzWt2TwQ",
        "outputId": "7d251f4d-4c68-4f2d-bed3-e596f7b39d3e"
      },
      "outputs": [
        {
          "output_type": "stream",
          "name": "stdout",
          "text": [
            "submissions containing [removed] or [deleted] in selftext:  0.504\n"
          ]
        }
      ],
      "source": [
        "# submissions containing [removed] or [deleted] in selftext\n",
        "removed(submissions_df2, 'sub')"
      ]
    },
    {
      "cell_type": "code",
      "execution_count": null,
      "metadata": {
        "colab": {
          "base_uri": "https://localhost:8080/"
        },
        "id": "oIkacUmb27FT",
        "outputId": "3dd8651a-1cb9-4de2-c7cd-d13c1e650ded"
      },
      "outputs": [
        {
          "output_type": "stream",
          "name": "stdout",
          "text": [
            "Final total rows:  3380\n",
            "submissions containing [removed] or [deleted] in selftext:  0.858\n"
          ]
        }
      ],
      "source": [
        "# Combining everything\n",
        "final_submissions = pd.DataFrame()\n",
        "final_submissions = pd.concat([final_submissions,submissions_df1])\n",
        "final_submissions = pd.concat([final_submissions,submissions_df2])\n",
        "print(\"Final total rows: \", len(final_submissions))\n",
        "removed(final_submissions, 'sub')\n",
        "final_submissions = final_submissions.rename(columns={\"url\": \"full_link\"})"
      ]
    },
    {
      "cell_type": "code",
      "execution_count": null,
      "metadata": {
        "colab": {
          "base_uri": "https://localhost:8080/"
        },
        "id": "MzAQ87NzTxSO",
        "outputId": "37b17f75-eefa-4fcb-c266-ec34af462744"
      },
      "outputs": [
        {
          "output_type": "execute_result",
          "data": {
            "text/plain": [
              "author          object\n",
              "created_utc      int64\n",
              "id              object\n",
              "num_comments     int64\n",
              "score            int64\n",
              "selftext        object\n",
              "subreddit       object\n",
              "title           object\n",
              "full_link       object\n",
              "created         object\n",
              "d_              object\n",
              "dtype: object"
            ]
          },
          "metadata": {},
          "execution_count": 14
        }
      ],
      "source": [
        "final_submissions.dtypes"
      ]
    },
    {
      "cell_type": "code",
      "execution_count": null,
      "metadata": {
        "colab": {
          "base_uri": "https://localhost:8080/"
        },
        "id": "nopXsE2yLWTP",
        "outputId": "5a9f6224-0e63-4a46-a271-b25ccb8a5e29"
      },
      "outputs": [
        {
          "output_type": "stream",
          "name": "stderr",
          "text": [
            "/usr/local/lib/python3.7/dist-packages/pandas/core/indexing.py:1732: SettingWithCopyWarning: \n",
            "A value is trying to be set on a copy of a slice from a DataFrame\n",
            "\n",
            "See the caveats in the documentation: https://pandas.pydata.org/pandas-docs/stable/user_guide/indexing.html#returning-a-view-versus-a-copy\n",
            "  self._setitem_single_block(indexer, value, name)\n"
          ]
        }
      ],
      "source": [
        "# Add additional columns\n",
        "topicsMap = {'explainlikeimfive': 'ExplainLikeImFive', \n",
        "             'Foodforthought': 'FoodForThought',\n",
        "             'changemyview': 'ChangeMyView', \n",
        "             'todayilearned': 'TodayILearned', \n",
        "             'AmericanPolitics' : 'Politics', \n",
        "             'worldpolitics' : 'Politics', \n",
        "             'government' : 'Politics', \n",
        "             'republicans' : 'Politics', \n",
        "             'tentree' : 'Environment', \n",
        "             'nature' : 'Environment',\n",
        "             'ZeroWaste' : 'Environment',\n",
        "             'gardening' : 'Environment', \n",
        "             'technology' :'Technology', \n",
        "             'tech' :'Technology',\n",
        "             'gaming' :'Technology', \n",
        "             'truegaming' :'Technology', \n",
        "             'bodybeast' : 'Healthcare', \n",
        "             'BodyBeast': 'Healthcare', \n",
        "             'briskwalking' : 'Healthcare', \n",
        "             'crossfit' : 'Healthcare', \n",
        "             'education' :'Education',\n",
        "             'teaching' :'Education',\n",
        "             'UniversityofReddit' :'Education'}\n",
        "\n",
        "final_submissions['topic'] = 'blank'\n",
        "final_submissions['created_at'] = final_submissions['created']\n",
        "\n",
        "for i in range(len(final_submissions)):\n",
        "  if final_submissions['subreddit'].iloc[i] in topicsMap:\n",
        "    final_submissions['topic'].iloc[i] = topicsMap[final_submissions['subreddit'].iloc[i]]\n",
        "  else:\n",
        "    final_submissions['topic'].iloc[i] = final_submissions['subreddit'].iloc[i]\n",
        "\n",
        "  date = final_submissions['created_utc'].iloc[i]\n",
        "  final_submissions['created_at'].iloc[i] = pd.to_datetime(date, unit='s')\n",
        "\n",
        "final_submissions['is_submission'] = True"
      ]
    },
    {
      "cell_type": "code",
      "execution_count": null,
      "metadata": {
        "id": "pxYcOMUZUnVW"
      },
      "outputs": [],
      "source": [
        "finalSubmissions = final_submissions[['id', 'subreddit', 'full_link', 'title', 'selftext', 'author', 'is_submission', 'topic', 'created_at']]"
      ]
    },
    {
      "cell_type": "code",
      "execution_count": null,
      "metadata": {
        "colab": {
          "base_uri": "https://localhost:8080/"
        },
        "id": "mKuuM5IgWBzZ",
        "outputId": "c777d982-6dde-44d5-a527-acdb1d48d69b"
      },
      "outputs": [
        {
          "output_type": "stream",
          "name": "stderr",
          "text": [
            "/usr/local/lib/python3.7/dist-packages/pandas/core/frame.py:3641: SettingWithCopyWarning: \n",
            "A value is trying to be set on a copy of a slice from a DataFrame.\n",
            "Try using .loc[row_indexer,col_indexer] = value instead\n",
            "\n",
            "See the caveats in the documentation: https://pandas.pydata.org/pandas-docs/stable/user_guide/indexing.html#returning-a-view-versus-a-copy\n",
            "  self[k1] = value[k2]\n"
          ]
        }
      ],
      "source": [
        "finalSubmissions[['id', 'subreddit', 'full_link', 'title','author', 'topic' ]] = finalSubmissions[['id', 'subreddit', 'full_link', 'title','author', 'topic']].astype('string')\n",
        "finalSubmissions[['is_submission']] = finalSubmissions[['is_submission']].astype('boolean')\n",
        "# finalSubmissions[['selftext']] = finalSubmissions[['selftext']].astype('text_en')\n",
        "finalSubmissions[['created_at']] = finalSubmissions[['created_at']].astype('datetime64')"
      ]
    },
    {
      "cell_type": "code",
      "execution_count": null,
      "metadata": {
        "colab": {
          "base_uri": "https://localhost:8080/"
        },
        "id": "vqOFfWZBVMN2",
        "outputId": "e5d3c120-60d0-4cce-a33b-f73781964945"
      },
      "outputs": [
        {
          "output_type": "execute_result",
          "data": {
            "text/plain": [
              "id                       string\n",
              "subreddit                string\n",
              "full_link                string\n",
              "title                    string\n",
              "selftext                 object\n",
              "author                   string\n",
              "is_submission           boolean\n",
              "topic                    string\n",
              "created_at       datetime64[ns]\n",
              "dtype: object"
            ]
          },
          "metadata": {},
          "execution_count": 19
        }
      ],
      "source": [
        "finalSubmissions.dtypes"
      ]
    },
    {
      "cell_type": "code",
      "execution_count": null,
      "metadata": {
        "colab": {
          "base_uri": "https://localhost:8080/"
        },
        "id": "5Vxfr_WbObXd",
        "outputId": "36c64328-eaaf-405a-ae8d-4fc1c81426d8"
      },
      "outputs": [
        {
          "output_type": "execute_result",
          "data": {
            "text/plain": [
              "<StringArray>\n",
              "[                                                                                                                                                                                                                                                                        'ExplainLikeImFive',\n",
              "                                                                                                                                                                                                                                                                            'FoodForThought',\n",
              "                                                                                                                                                                                                                                                                              'ChangeMyView',\n",
              "                                                                                                                                                                                                                                                                             'TodayILearned',\n",
              "                                                                                                                                                                                                                                                                                  'Politics',\n",
              "                                                                                                                                                                                                                                                                               'Environment',\n",
              " \"Top EPA official resigns over Trump's rule - Ends 30-yr run saying, “The environmental field is suffering from the temporary triumph of myth over truth. There is NO war on coal, NO economic crisis caused by environmental protection, & climate change IS caused by man’s activities.”\",\n",
              "                                                                                                                                                                                                                                                                                'Technology',\n",
              "                                                                                                                                                                                                                                                                                'Healthcare',\n",
              "                                                                                                                                                                                                                                                                                 'Education']\n",
              "Length: 10, dtype: string"
            ]
          },
          "metadata": {},
          "execution_count": 20
        }
      ],
      "source": [
        "# Unique Topics\n",
        "finalSubmissions['topic'].unique()"
      ]
    },
    {
      "cell_type": "code",
      "execution_count": null,
      "metadata": {
        "id": "0lCoKGtrf0WO"
      },
      "outputs": [],
      "source": [
        "finalSubmissions.to_pickle(\"finalSubmissions.pkl\")"
      ]
    },
    {
      "cell_type": "code",
      "source": [
        "finalSubmissions.to_csv(\"finalSubmissions.csv\")"
      ],
      "metadata": {
        "id": "yKhrRsgiYykp"
      },
      "execution_count": null,
      "outputs": []
    },
    {
      "cell_type": "code",
      "execution_count": null,
      "metadata": {
        "colab": {
          "base_uri": "https://localhost:8080/",
          "height": 525
        },
        "id": "xBVLbmXML9Hi",
        "outputId": "e0a8e304-054d-429b-b2e5-cc11de8a71fc"
      },
      "outputs": [
        {
          "output_type": "execute_result",
          "data": {
            "text/plain": [
              "                                                     id  subreddit  full_link  \\\n",
              "topic                                                                           \n",
              "ChangeMyView                                        150        150        150   \n",
              "Education                                           750        750        750   \n",
              "Environment                                         498        498        498   \n",
              "ExplainLikeImFive                                   150        150        150   \n",
              "FoodForThought                                      150        150        150   \n",
              "Healthcare                                          257        257        257   \n",
              "Politics                                            525        525        525   \n",
              "Technology                                          749        749        749   \n",
              "TodayILearned                                       150        150        150   \n",
              "Top EPA official resigns over Trump's rule - En...    1          1          1   \n",
              "\n",
              "                                                    title  selftext  author  \\\n",
              "topic                                                                         \n",
              "ChangeMyView                                          150       150     150   \n",
              "Education                                             750       750     750   \n",
              "Environment                                           498       498     498   \n",
              "ExplainLikeImFive                                     150       150     150   \n",
              "FoodForThought                                        150       150     150   \n",
              "Healthcare                                            257       257     257   \n",
              "Politics                                              525       525     525   \n",
              "Technology                                            749       749     749   \n",
              "TodayILearned                                         150       150     150   \n",
              "Top EPA official resigns over Trump's rule - En...      1         1       1   \n",
              "\n",
              "                                                    is_submission  created_at  \n",
              "topic                                                                          \n",
              "ChangeMyView                                                  150         150  \n",
              "Education                                                     750         750  \n",
              "Environment                                                   498         498  \n",
              "ExplainLikeImFive                                             150         150  \n",
              "FoodForThought                                                150         150  \n",
              "Healthcare                                                    257         257  \n",
              "Politics                                                      525         525  \n",
              "Technology                                                    749         749  \n",
              "TodayILearned                                                 150         150  \n",
              "Top EPA official resigns over Trump's rule - En...              1           1  "
            ],
            "text/html": [
              "\n",
              "  <div id=\"df-2f7fe5f1-3163-4450-852a-17de4776f09f\">\n",
              "    <div class=\"colab-df-container\">\n",
              "      <div>\n",
              "<style scoped>\n",
              "    .dataframe tbody tr th:only-of-type {\n",
              "        vertical-align: middle;\n",
              "    }\n",
              "\n",
              "    .dataframe tbody tr th {\n",
              "        vertical-align: top;\n",
              "    }\n",
              "\n",
              "    .dataframe thead th {\n",
              "        text-align: right;\n",
              "    }\n",
              "</style>\n",
              "<table border=\"1\" class=\"dataframe\">\n",
              "  <thead>\n",
              "    <tr style=\"text-align: right;\">\n",
              "      <th></th>\n",
              "      <th>id</th>\n",
              "      <th>subreddit</th>\n",
              "      <th>full_link</th>\n",
              "      <th>title</th>\n",
              "      <th>selftext</th>\n",
              "      <th>author</th>\n",
              "      <th>is_submission</th>\n",
              "      <th>created_at</th>\n",
              "    </tr>\n",
              "    <tr>\n",
              "      <th>topic</th>\n",
              "      <th></th>\n",
              "      <th></th>\n",
              "      <th></th>\n",
              "      <th></th>\n",
              "      <th></th>\n",
              "      <th></th>\n",
              "      <th></th>\n",
              "      <th></th>\n",
              "    </tr>\n",
              "  </thead>\n",
              "  <tbody>\n",
              "    <tr>\n",
              "      <th>ChangeMyView</th>\n",
              "      <td>150</td>\n",
              "      <td>150</td>\n",
              "      <td>150</td>\n",
              "      <td>150</td>\n",
              "      <td>150</td>\n",
              "      <td>150</td>\n",
              "      <td>150</td>\n",
              "      <td>150</td>\n",
              "    </tr>\n",
              "    <tr>\n",
              "      <th>Education</th>\n",
              "      <td>750</td>\n",
              "      <td>750</td>\n",
              "      <td>750</td>\n",
              "      <td>750</td>\n",
              "      <td>750</td>\n",
              "      <td>750</td>\n",
              "      <td>750</td>\n",
              "      <td>750</td>\n",
              "    </tr>\n",
              "    <tr>\n",
              "      <th>Environment</th>\n",
              "      <td>498</td>\n",
              "      <td>498</td>\n",
              "      <td>498</td>\n",
              "      <td>498</td>\n",
              "      <td>498</td>\n",
              "      <td>498</td>\n",
              "      <td>498</td>\n",
              "      <td>498</td>\n",
              "    </tr>\n",
              "    <tr>\n",
              "      <th>ExplainLikeImFive</th>\n",
              "      <td>150</td>\n",
              "      <td>150</td>\n",
              "      <td>150</td>\n",
              "      <td>150</td>\n",
              "      <td>150</td>\n",
              "      <td>150</td>\n",
              "      <td>150</td>\n",
              "      <td>150</td>\n",
              "    </tr>\n",
              "    <tr>\n",
              "      <th>FoodForThought</th>\n",
              "      <td>150</td>\n",
              "      <td>150</td>\n",
              "      <td>150</td>\n",
              "      <td>150</td>\n",
              "      <td>150</td>\n",
              "      <td>150</td>\n",
              "      <td>150</td>\n",
              "      <td>150</td>\n",
              "    </tr>\n",
              "    <tr>\n",
              "      <th>Healthcare</th>\n",
              "      <td>257</td>\n",
              "      <td>257</td>\n",
              "      <td>257</td>\n",
              "      <td>257</td>\n",
              "      <td>257</td>\n",
              "      <td>257</td>\n",
              "      <td>257</td>\n",
              "      <td>257</td>\n",
              "    </tr>\n",
              "    <tr>\n",
              "      <th>Politics</th>\n",
              "      <td>525</td>\n",
              "      <td>525</td>\n",
              "      <td>525</td>\n",
              "      <td>525</td>\n",
              "      <td>525</td>\n",
              "      <td>525</td>\n",
              "      <td>525</td>\n",
              "      <td>525</td>\n",
              "    </tr>\n",
              "    <tr>\n",
              "      <th>Technology</th>\n",
              "      <td>749</td>\n",
              "      <td>749</td>\n",
              "      <td>749</td>\n",
              "      <td>749</td>\n",
              "      <td>749</td>\n",
              "      <td>749</td>\n",
              "      <td>749</td>\n",
              "      <td>749</td>\n",
              "    </tr>\n",
              "    <tr>\n",
              "      <th>TodayILearned</th>\n",
              "      <td>150</td>\n",
              "      <td>150</td>\n",
              "      <td>150</td>\n",
              "      <td>150</td>\n",
              "      <td>150</td>\n",
              "      <td>150</td>\n",
              "      <td>150</td>\n",
              "      <td>150</td>\n",
              "    </tr>\n",
              "    <tr>\n",
              "      <th>Top EPA official resigns over Trump's rule - Ends 30-yr run saying, “The environmental field is suffering from the temporary triumph of myth over truth. There is NO war on coal, NO economic crisis caused by environmental protection, &amp; climate change IS caused by man’s activities.”</th>\n",
              "      <td>1</td>\n",
              "      <td>1</td>\n",
              "      <td>1</td>\n",
              "      <td>1</td>\n",
              "      <td>1</td>\n",
              "      <td>1</td>\n",
              "      <td>1</td>\n",
              "      <td>1</td>\n",
              "    </tr>\n",
              "  </tbody>\n",
              "</table>\n",
              "</div>\n",
              "      <button class=\"colab-df-convert\" onclick=\"convertToInteractive('df-2f7fe5f1-3163-4450-852a-17de4776f09f')\"\n",
              "              title=\"Convert this dataframe to an interactive table.\"\n",
              "              style=\"display:none;\">\n",
              "        \n",
              "  <svg xmlns=\"http://www.w3.org/2000/svg\" height=\"24px\"viewBox=\"0 0 24 24\"\n",
              "       width=\"24px\">\n",
              "    <path d=\"M0 0h24v24H0V0z\" fill=\"none\"/>\n",
              "    <path d=\"M18.56 5.44l.94 2.06.94-2.06 2.06-.94-2.06-.94-.94-2.06-.94 2.06-2.06.94zm-11 1L8.5 8.5l.94-2.06 2.06-.94-2.06-.94L8.5 2.5l-.94 2.06-2.06.94zm10 10l.94 2.06.94-2.06 2.06-.94-2.06-.94-.94-2.06-.94 2.06-2.06.94z\"/><path d=\"M17.41 7.96l-1.37-1.37c-.4-.4-.92-.59-1.43-.59-.52 0-1.04.2-1.43.59L10.3 9.45l-7.72 7.72c-.78.78-.78 2.05 0 2.83L4 21.41c.39.39.9.59 1.41.59.51 0 1.02-.2 1.41-.59l7.78-7.78 2.81-2.81c.8-.78.8-2.07 0-2.86zM5.41 20L4 18.59l7.72-7.72 1.47 1.35L5.41 20z\"/>\n",
              "  </svg>\n",
              "      </button>\n",
              "      \n",
              "  <style>\n",
              "    .colab-df-container {\n",
              "      display:flex;\n",
              "      flex-wrap:wrap;\n",
              "      gap: 12px;\n",
              "    }\n",
              "\n",
              "    .colab-df-convert {\n",
              "      background-color: #E8F0FE;\n",
              "      border: none;\n",
              "      border-radius: 50%;\n",
              "      cursor: pointer;\n",
              "      display: none;\n",
              "      fill: #1967D2;\n",
              "      height: 32px;\n",
              "      padding: 0 0 0 0;\n",
              "      width: 32px;\n",
              "    }\n",
              "\n",
              "    .colab-df-convert:hover {\n",
              "      background-color: #E2EBFA;\n",
              "      box-shadow: 0px 1px 2px rgba(60, 64, 67, 0.3), 0px 1px 3px 1px rgba(60, 64, 67, 0.15);\n",
              "      fill: #174EA6;\n",
              "    }\n",
              "\n",
              "    [theme=dark] .colab-df-convert {\n",
              "      background-color: #3B4455;\n",
              "      fill: #D2E3FC;\n",
              "    }\n",
              "\n",
              "    [theme=dark] .colab-df-convert:hover {\n",
              "      background-color: #434B5C;\n",
              "      box-shadow: 0px 1px 3px 1px rgba(0, 0, 0, 0.15);\n",
              "      filter: drop-shadow(0px 1px 2px rgba(0, 0, 0, 0.3));\n",
              "      fill: #FFFFFF;\n",
              "    }\n",
              "  </style>\n",
              "\n",
              "      <script>\n",
              "        const buttonEl =\n",
              "          document.querySelector('#df-2f7fe5f1-3163-4450-852a-17de4776f09f button.colab-df-convert');\n",
              "        buttonEl.style.display =\n",
              "          google.colab.kernel.accessAllowed ? 'block' : 'none';\n",
              "\n",
              "        async function convertToInteractive(key) {\n",
              "          const element = document.querySelector('#df-2f7fe5f1-3163-4450-852a-17de4776f09f');\n",
              "          const dataTable =\n",
              "            await google.colab.kernel.invokeFunction('convertToInteractive',\n",
              "                                                     [key], {});\n",
              "          if (!dataTable) return;\n",
              "\n",
              "          const docLinkHtml = 'Like what you see? Visit the ' +\n",
              "            '<a target=\"_blank\" href=https://colab.research.google.com/notebooks/data_table.ipynb>data table notebook</a>'\n",
              "            + ' to learn more about interactive tables.';\n",
              "          element.innerHTML = '';\n",
              "          dataTable['output_type'] = 'display_data';\n",
              "          await google.colab.output.renderOutput(dataTable, element);\n",
              "          const docLink = document.createElement('div');\n",
              "          docLink.innerHTML = docLinkHtml;\n",
              "          element.appendChild(docLink);\n",
              "        }\n",
              "      </script>\n",
              "    </div>\n",
              "  </div>\n",
              "  "
            ]
          },
          "metadata": {},
          "execution_count": 23
        }
      ],
      "source": [
        "finalSubmissions.groupby(['topic']).count()"
      ]
    },
    {
      "cell_type": "code",
      "execution_count": null,
      "metadata": {
        "colab": {
          "base_uri": "https://localhost:8080/"
        },
        "id": "dhseyEuN4QGY",
        "outputId": "111cd5f4-4846-453f-bfbf-418c7941f9c1"
      },
      "outputs": [
        {
          "output_type": "stream",
          "name": "stdout",
          "text": [
            "An exception occurred\n",
            "An exception occurred\n",
            "An exception occurred\n"
          ]
        }
      ],
      "source": [
        "############################## GET COMMENTS ##############################\n",
        "finalSubmissions = finalSubmissions.reset_index()\n",
        "subreddit_details = finalSubmissions[['id', 'subreddit']].loc[finalSubmissions['selftext'] != '[removed]'].loc[finalSubmissions\n",
        "                                                                                                               ['selftext'] != '[deleted]'].drop_duplicates([\"id\",\"subreddit\"])\n",
        "limit = round(30000/len(subreddit_details))\n",
        "comments_df = pd.DataFrame()\n",
        "for i in range(len(subreddit_details)):\n",
        "  try:\n",
        "    gen = api.search_comments(link_id=subreddit_details['id'][i], subreddit=subreddit_details['subreddit'][i],\n",
        "                                        filter=['id','parent_id','permalink','author', 'title', 'subreddit','body','num_comments','score'], limit=30)  \n",
        "  except:\n",
        "    print(\"An exception occurred\")\n",
        "  \n",
        "  df = pd.DataFrame(list(gen))\n",
        "  comments_df = pd.concat([comments_df,df])\n"
      ]
    },
    {
      "cell_type": "code",
      "execution_count": null,
      "metadata": {
        "colab": {
          "base_uri": "https://localhost:8080/"
        },
        "id": "YL3U6X5P590w",
        "outputId": "ae56d944-6df5-48d1-854d-531d0460abd6"
      },
      "outputs": [
        {
          "output_type": "stream",
          "name": "stdout",
          "text": [
            "Total rows:  92654\n"
          ]
        }
      ],
      "source": [
        "# total rows\n",
        "print(\"Total rows: \", len(comments_df))"
      ]
    },
    {
      "cell_type": "code",
      "source": [
        "comments_df = comments_df.loc[comments_df['body'] != '[removed]']"
      ],
      "metadata": {
        "id": "V54NWN5xVgsl"
      },
      "execution_count": null,
      "outputs": []
    },
    {
      "cell_type": "code",
      "source": [
        "comments_df['full_link']"
      ],
      "metadata": {
        "id": "efBC6QzbWs5k"
      },
      "execution_count": null,
      "outputs": []
    },
    {
      "cell_type": "code",
      "execution_count": null,
      "metadata": {
        "colab": {
          "base_uri": "https://localhost:8080/"
        },
        "id": "6XFIh9t26Hqk",
        "outputId": "7e0525a1-0af0-4c8f-c262-d5d213ecfe6b"
      },
      "outputs": [
        {
          "output_type": "stream",
          "name": "stdout",
          "text": [
            "comments containing [removed] or [deleted] in body:  3.017\n"
          ]
        }
      ],
      "source": [
        "# comments containing [removed] or [deleted] in body\n",
        "removed(comments_df, 'com')\n",
        "comments_df = comments_df.rename(columns={\"permalink\": \"full_link\"})"
      ]
    },
    {
      "cell_type": "code",
      "execution_count": null,
      "metadata": {
        "id": "QOohrbZcYEkE"
      },
      "outputs": [],
      "source": [
        "comments_df"
      ]
    },
    {
      "cell_type": "code",
      "execution_count": null,
      "metadata": {
        "colab": {
          "base_uri": "https://localhost:8080/"
        },
        "id": "GoI81LN6UQTB",
        "outputId": "564a3d03-7abb-407a-f3a4-c3bf2f8fedb4"
      },
      "outputs": [
        {
          "output_type": "stream",
          "name": "stderr",
          "text": [
            "/usr/local/lib/python3.7/dist-packages/pandas/core/indexing.py:1732: SettingWithCopyWarning: \n",
            "A value is trying to be set on a copy of a slice from a DataFrame\n",
            "\n",
            "See the caveats in the documentation: https://pandas.pydata.org/pandas-docs/stable/user_guide/indexing.html#returning-a-view-versus-a-copy\n",
            "  self._setitem_single_block(indexer, value, name)\n"
          ]
        }
      ],
      "source": [
        "# Add additional columns\n",
        "topicsMap = {'explainlikeimfive': 'ExplainLikeImFive', 'Foodforthought': 'FoodForThought','changemyview': 'ChangeMyView', 'todayilearned': 'TodayILearned', \n",
        "             'worldnews' : 'Politics', 'worldpolitics' : 'Politics', 'government' : 'Politics', \n",
        "             'tentree' : 'Environment', 'nature' : 'Environment','gardening' : 'Environment', \n",
        "             'technology' :'Technology', 'tech' :'Technology','gaming' :'Technology', \n",
        "             'bodybeast' : 'Healthcare', 'BodyBeast': 'Healthcare', 'briskwalking' : 'Healthcare', 'crossfit' : 'Healthcare', \n",
        "             'education' :'Education','teaching' :'Education','UniversityofReddit' :'Education'}\n",
        "\n",
        "comments_df['parent_body'] = 'blank'\n",
        "comments_df['created_at'] = comments_df['created']\n",
        "\n",
        "for i in range(len(comments_df)):\n",
        "  date = comments_df['created_utc'].iloc[i]\n",
        "  comments_df['created_at'].iloc[i] = pd.to_datetime(date, unit='s')\n",
        "\n",
        "comments_df['is_submission'] = False"
      ]
    },
    {
      "cell_type": "code",
      "execution_count": null,
      "metadata": {
        "id": "xNfV0WGqYXvN"
      },
      "outputs": [],
      "source": [
        "comments_df = comments_df[['id', 'subreddit', 'full_link', 'body', 'author', 'parent_id', 'parent_body', 'is_submission', 'created_at']]"
      ]
    },
    {
      "cell_type": "code",
      "execution_count": null,
      "metadata": {
        "id": "WvbELMm5ZEBN"
      },
      "outputs": [],
      "source": [
        "comments_df.groupby(['subreddit']).count()"
      ]
    },
    {
      "cell_type": "code",
      "source": [
        "sum1 = 0\n",
        "sum2 = 0\n",
        "for i in range(len(comments_df)):\n",
        "    parent = comments_df['parent_id'].iloc[i][:2]\n",
        "    if parent == 't3':\n",
        "        sum1 += 1\n",
        "    else:\n",
        "        sum2 += 1\n",
        "\n",
        "print(sum1, sum2)"
      ],
      "metadata": {
        "colab": {
          "base_uri": "https://localhost:8080/"
        },
        "id": "_XFYSzdWWTeO",
        "outputId": "8dd8afd0-a271-4a81-80e6-13052d2cf997"
      },
      "execution_count": null,
      "outputs": [
        {
          "output_type": "stream",
          "name": "stdout",
          "text": [
            "30490 59258\n"
          ]
        }
      ]
    },
    {
      "cell_type": "code",
      "execution_count": null,
      "metadata": {
        "id": "PFHLhB58f4A6"
      },
      "outputs": [],
      "source": [
        "comments_df.to_pickle(\"finalComments.pkl\")"
      ]
    },
    {
      "cell_type": "code",
      "source": [
        "comments_df.to_csv(\"finalComments.csv\")"
      ],
      "metadata": {
        "id": "1IEDJ5i-YuPk"
      },
      "execution_count": null,
      "outputs": []
    },
    {
      "cell_type": "code",
      "execution_count": null,
      "metadata": {
        "id": "KnP5jJZW__Gk"
      },
      "outputs": [],
      "source": [
        "# finalSubmissions_df = pd.read_pickle(\"finalSubmissions.pkl\")  "
      ]
    },
    {
      "cell_type": "code",
      "execution_count": null,
      "metadata": {
        "id": "E2EG9UE0Bew3"
      },
      "outputs": [],
      "source": [
        "finalCombined = pd.concat([finalSubmissions, comments_df], axis=0)"
      ]
    },
    {
      "cell_type": "code",
      "execution_count": null,
      "metadata": {
        "colab": {
          "base_uri": "https://localhost:8080/"
        },
        "id": "9uD5pPbSKgxu",
        "outputId": "600c11d9-9fbb-466b-8139-5976348be330"
      },
      "outputs": [
        {
          "output_type": "stream",
          "name": "stdout",
          "text": [
            "comments/submissions containing [removed] or [deleted] in body:  2.939\n"
          ]
        }
      ],
      "source": [
        "len(finalCombined)\n",
        "removed(finalCombined, 'combined')"
      ]
    },
    {
      "cell_type": "code",
      "execution_count": null,
      "metadata": {
        "id": "d4UGjYErJ4cX"
      },
      "outputs": [],
      "source": [
        "finalCombined.to_pickle(\"finalCombined.pkl\")"
      ]
    },
    {
      "cell_type": "code",
      "source": [
        "finalCombined.to_csv(\"finalCombined.csv\")"
      ],
      "metadata": {
        "id": "pzJl1DNBY5GZ"
      },
      "execution_count": null,
      "outputs": []
    },
    {
      "cell_type": "code",
      "execution_count": null,
      "metadata": {
        "colab": {
          "base_uri": "https://localhost:8080/"
        },
        "id": "D7FU0fTvJkdp",
        "outputId": "6f81e199-b72d-4892-a595-e95da02366b7"
      },
      "outputs": [
        {
          "data": {
            "text/plain": [
              "3525"
            ]
          },
          "execution_count": 56,
          "metadata": {},
          "output_type": "execute_result"
        }
      ],
      "source": [
        "len(finalCombined.loc[finalCombined['selftext'] == '[removed]']) + len(finalCombined.loc[finalCombined['selftext'] == '[deleted]']) + len(finalCombined.loc[finalCombined['body'] == '[removed]']) + len(finalCombined.loc[finalCombined['body'] == '[deleted]'])"
      ]
    },
    {
      "cell_type": "code",
      "execution_count": null,
      "metadata": {
        "colab": {
          "base_uri": "https://localhost:8080/"
        },
        "id": "qRa-McujLS_v",
        "outputId": "986a26cc-9512-4aff-b199-a5c239b0b613"
      },
      "outputs": [
        {
          "data": {
            "text/plain": [
              "7.185372416323535"
            ]
          },
          "execution_count": 60,
          "metadata": {},
          "output_type": "execute_result"
        }
      ],
      "source": [
        "3525/len(finalCombined) * 100\n"
      ]
    },
    {
      "cell_type": "code",
      "source": [
        "# ParentBody"
      ],
      "metadata": {
        "id": "uZ_kmrscw9FW"
      },
      "execution_count": null,
      "outputs": []
    },
    {
      "cell_type": "code",
      "source": [
        "test = pd.read_pickle(\"finalCombined_new.pkl\")\n",
        "# print(test.columns)\n",
        "\n",
        "\n",
        "submissions = test.loc[test['is_submission'] == True]\n",
        "\n",
        "comments = test.loc[test['is_submission'] == False]\n",
        "\n",
        "print(len(submissions), len(comments), len(submissions) + len(comments), len(test))"
      ],
      "metadata": {
        "colab": {
          "base_uri": "https://localhost:8080/"
        },
        "id": "IPhXR5SIw9Ts",
        "outputId": "92de757b-19e4-4e7f-a5c8-caa5d92a43c6"
      },
      "execution_count": null,
      "outputs": [
        {
          "output_type": "stream",
          "name": "stdout",
          "text": [
            "3380 89748 93128 93128\n"
          ]
        }
      ]
    },
    {
      "cell_type": "code",
      "source": [
        "# Extracting t3 comments\n",
        "from string import digits\n",
        "for i in range(len(comments)):\n",
        "\n",
        "  parent = comments['parent_id'].iloc[i][:2]\n",
        "  parent_id = comments['parent_id'].iloc[i][3:]\n",
        "  if parent == 't3':\n",
        "    body = submissions['selftext'].loc[submissions['id'] == parent_id].values\n",
        "    # body = body.lstrip(digits)\n",
        "    comments['parent_body'].iloc[i] = body[0]\n",
        "    # comments['parent_body'].iloc[i].str.lstrip(digits)"
      ],
      "metadata": {
        "colab": {
          "base_uri": "https://localhost:8080/"
        },
        "id": "zHeuu9eiw9W3",
        "outputId": "f3f2b85d-cde2-43ef-91aa-005985ce4359"
      },
      "execution_count": null,
      "outputs": [
        {
          "output_type": "stream",
          "name": "stderr",
          "text": [
            "/usr/local/lib/python3.7/dist-packages/pandas/core/indexing.py:1732: SettingWithCopyWarning: \n",
            "A value is trying to be set on a copy of a slice from a DataFrame\n",
            "\n",
            "See the caveats in the documentation: https://pandas.pydata.org/pandas-docs/stable/user_guide/indexing.html#returning-a-view-versus-a-copy\n",
            "  self._setitem_single_block(indexer, value, name)\n"
          ]
        }
      ]
    },
    {
      "cell_type": "code",
      "source": [
        "# comments.to_csv(\"t3Comments.csv\")\n",
        "# submissions.to_csv(\"submissions.csv\")"
      ],
      "metadata": {
        "id": "_Z9uItjM6zlL"
      },
      "execution_count": null,
      "outputs": []
    },
    {
      "cell_type": "code",
      "source": [
        "t1_parent_ids = []\n",
        "for i in range(len(comments)):\n",
        "  parent = comments['parent_id'].iloc[i][:2]\n",
        "  if parent == 't1':\n",
        "    parent_id = comments['parent_id'].iloc[i][3:]\n",
        "    t1_parent_ids.append(parent_id)\n",
        "\n",
        "print(len(t1_parent_ids))"
      ],
      "metadata": {
        "colab": {
          "base_uri": "https://localhost:8080/"
        },
        "id": "l5y2biuRw9aL",
        "outputId": "83eff551-bd5a-46b1-e7fc-7da24b3ae34f"
      },
      "execution_count": null,
      "outputs": [
        {
          "output_type": "stream",
          "name": "stdout",
          "text": [
            "59258\n"
          ]
        }
      ]
    },
    {
      "cell_type": "code",
      "source": [
        "from logging import exception\n",
        "final = pd.DataFrame()\n",
        "for i in range(0, len(t1_parent_ids), 500):\n",
        "  print(i, i+500)\n",
        "\n",
        "  gen = api.search_comments(ids=t1_parent_ids[i:i+500],\n",
        "                                     filter=['id','parent_id','permalink','author', 'title', \n",
        "                                                  'subreddit','body','num_comments','score','created_utc', 'created'],metadata=True, limit=1)  \n",
        "\n",
        "  try:\n",
        "    df = pd.DataFrame(list(gen))\n",
        "  except:\n",
        "    print(exception)\n",
        "    # df = pd.DataFrame(list(gen)), columns=['id','parent_id','permalink','author', 'title', \n",
        "                                                  # 'subreddit','body','num_comments','score','created_utc', 'created','d_']\n",
        "  df = df[['id', 'parent_id', 'body', 'created_utc']]\n",
        "  final = pd.concat([final,df])\n",
        "\n"
      ],
      "metadata": {
        "colab": {
          "base_uri": "https://localhost:8080/"
        },
        "id": "gBYcJ2ut5Ez_",
        "outputId": "c8768556-cdd9-4bae-c4c8-2c7e5d4bd663"
      },
      "execution_count": null,
      "outputs": [
        {
          "output_type": "stream",
          "name": "stdout",
          "text": [
            "0 500\n",
            "500 1000\n",
            "1000 1500\n",
            "1500 2000\n",
            "2000 2500\n",
            "2500 3000\n",
            "3000 3500\n",
            "3500 4000\n",
            "4000 4500\n",
            "4500 5000\n",
            "5000 5500\n",
            "5500 6000\n",
            "<function exception at 0x7ff547ed6680>\n",
            "6000 6500\n",
            "6500 7000\n",
            "7000 7500\n",
            "7500 8000\n",
            "8000 8500\n",
            "8500 9000\n",
            "9000 9500\n",
            "9500 10000\n",
            "10000 10500\n",
            "10500 11000\n",
            "11000 11500\n",
            "11500 12000\n",
            "12000 12500\n",
            "12500 13000\n",
            "13000 13500\n",
            "13500 14000\n",
            "14000 14500\n",
            "14500 15000\n",
            "15000 15500\n",
            "15500 16000\n",
            "16000 16500\n",
            "16500 17000\n",
            "<function exception at 0x7ff547ed6680>\n",
            "17000 17500\n",
            "17500 18000\n",
            "<function exception at 0x7ff547ed6680>\n",
            "18000 18500\n",
            "18500 19000\n",
            "19000 19500\n",
            "19500 20000\n",
            "20000 20500\n",
            "<function exception at 0x7ff547ed6680>\n",
            "20500 21000\n",
            "<function exception at 0x7ff547ed6680>\n",
            "21000 21500\n",
            "21500 22000\n",
            "<function exception at 0x7ff547ed6680>\n",
            "22000 22500\n",
            "22500 23000\n",
            "23000 23500\n",
            "23500 24000\n",
            "24000 24500\n",
            "<function exception at 0x7ff547ed6680>\n",
            "24500 25000\n",
            "<function exception at 0x7ff547ed6680>\n",
            "25000 25500\n",
            "25500 26000\n",
            "26000 26500\n",
            "<function exception at 0x7ff547ed6680>\n",
            "26500 27000\n",
            "27000 27500\n",
            "27500 28000\n",
            "28000 28500\n",
            "28500 29000\n",
            "29000 29500\n",
            "29500 30000\n",
            "30000 30500\n",
            "30500 31000\n",
            "31000 31500\n",
            "31500 32000\n",
            "32000 32500\n",
            "32500 33000\n",
            "33000 33500\n",
            "33500 34000\n",
            "34000 34500\n",
            "34500 35000\n",
            "35000 35500\n",
            "35500 36000\n",
            "36000 36500\n",
            "36500 37000\n",
            "37000 37500\n",
            "37500 38000\n",
            "38000 38500\n",
            "38500 39000\n",
            "39000 39500\n",
            "39500 40000\n",
            "40000 40500\n",
            "40500 41000\n",
            "41000 41500\n",
            "<function exception at 0x7ff547ed6680>\n",
            "41500 42000\n",
            "42000 42500\n",
            "42500 43000\n",
            "43000 43500\n",
            "43500 44000\n",
            "44000 44500\n",
            "<function exception at 0x7ff547ed6680>\n",
            "44500 45000\n",
            "45000 45500\n",
            "45500 46000\n",
            "46000 46500\n",
            "46500 47000\n",
            "47000 47500\n",
            "47500 48000\n",
            "48000 48500\n",
            "48500 49000\n",
            "49000 49500\n",
            "49500 50000\n",
            "<function exception at 0x7ff547ed6680>\n",
            "50000 50500\n",
            "<function exception at 0x7ff547ed6680>\n",
            "50500 51000\n",
            "51000 51500\n",
            "51500 52000\n",
            "<function exception at 0x7ff547ed6680>\n",
            "52000 52500\n",
            "52500 53000\n",
            "53000 53500\n",
            "53500 54000\n",
            "54000 54500\n",
            "54500 55000\n",
            "55000 55500\n",
            "<function exception at 0x7ff547ed6680>\n",
            "55500 56000\n",
            "<function exception at 0x7ff547ed6680>\n",
            "56000 56500\n",
            "<function exception at 0x7ff547ed6680>\n",
            "56500 57000\n",
            "<function exception at 0x7ff547ed6680>\n",
            "57000 57500\n",
            "<function exception at 0x7ff547ed6680>\n",
            "57500 58000\n",
            "<function exception at 0x7ff547ed6680>\n",
            "58000 58500\n",
            "58500 59000\n",
            "59000 59500\n"
          ]
        }
      ]
    },
    {
      "cell_type": "code",
      "source": [
        "len(final)"
      ],
      "metadata": {
        "colab": {
          "base_uri": "https://localhost:8080/"
        },
        "id": "n7y_T6S4S7QS",
        "outputId": "fd5a62e4-8be6-478e-db61-e81568736c8a"
      },
      "execution_count": null,
      "outputs": [
        {
          "output_type": "execute_result",
          "data": {
            "text/plain": [
              "50410"
            ]
          },
          "metadata": {},
          "execution_count": 98
        }
      ]
    },
    {
      "cell_type": "code",
      "source": [
        "for i in range(len(comments)):\n",
        "  parent = comments['parent_id'].iloc[i][:2]\n",
        "  parent_id = comments['parent_id'].iloc[i][3:]\n",
        "  if parent == 't1':\n",
        "    if parent_id in final['id'].values:\n",
        "      # print(parent_id)\n",
        "      body = final['body'].loc[final['id'] == parent_id].values[0]\n",
        "      comments['parent_body'].iloc[i] = body"
      ],
      "metadata": {
        "id": "m0BJz-jJPGa8"
      },
      "execution_count": null,
      "outputs": []
    },
    {
      "cell_type": "code",
      "source": [
        "commentsCopy = pd.DataFrame()\n",
        "commentsCopy = pd.concat([commentsCopy,comments])"
      ],
      "metadata": {
        "id": "No2xxLJee0YP"
      },
      "execution_count": null,
      "outputs": []
    },
    {
      "cell_type": "code",
      "source": [
        "comments = commentsCopy"
      ],
      "metadata": {
        "id": "y1xOalAygXtW"
      },
      "execution_count": null,
      "outputs": []
    },
    {
      "cell_type": "code",
      "source": [
        "comments['full_link'].iloc[29890]"
      ],
      "metadata": {
        "colab": {
          "base_uri": "https://localhost:8080/",
          "height": 35
        },
        "id": "wsz1P_UafFEa",
        "outputId": "1bd9eca8-b8c1-412a-ddca-0325157ffa2f"
      },
      "execution_count": null,
      "outputs": [
        {
          "output_type": "execute_result",
          "data": {
            "text/plain": [
              "'/r/nature/comments/qriif6/how_sarscov2_in_whitetailed_deer_could_alter_the/hkbbkwe/'"
            ],
            "application/vnd.google.colaboratory.intrinsic+json": {
              "type": "string"
            }
          },
          "metadata": {},
          "execution_count": 76
        }
      ]
    },
    {
      "cell_type": "code",
      "source": [
        "import math\n",
        "print(len(comments['full_link']))\n",
        "print(len(comments['full_link'].loc[comments['full_link'].isna()]))"
      ],
      "metadata": {
        "colab": {
          "base_uri": "https://localhost:8080/"
        },
        "id": "ws1IJriVcXTb",
        "outputId": "d00dff2c-6a6f-4685-dc43-1a0547c0e2e9"
      },
      "execution_count": null,
      "outputs": [
        {
          "output_type": "stream",
          "name": "stdout",
          "text": [
            "89748\n",
            "6602\n"
          ]
        }
      ]
    },
    {
      "cell_type": "code",
      "source": [
        "for i in range(len(comments)):\n",
        "  permalink = str(comments['full_link'].iloc[i])\n",
        "  new_link = \"https://www.reddit.com\"+ permalink\n",
        "  comments['full_link'].iloc[i] = new_link"
      ],
      "metadata": {
        "id": "683LlzWUYuby"
      },
      "execution_count": null,
      "outputs": []
    },
    {
      "cell_type": "code",
      "source": [
        "finalCombined_parentbody = pd.concat([submissions, comments])"
      ],
      "metadata": {
        "id": "45WC_W355TT-"
      },
      "execution_count": null,
      "outputs": []
    },
    {
      "cell_type": "code",
      "source": [
        "finalCombined_parentbody.loc[finalCombined_parentbody['is_submission'] == False]"
      ],
      "metadata": {
        "id": "vi679mYfVqCS"
      },
      "execution_count": null,
      "outputs": []
    },
    {
      "cell_type": "code",
      "source": [
        "finalCombined_parentbody.to_pickle(\"finalCombined_parentbody.pkl\")\n",
        "finalCombined_parentbody.to_csv(\"finalCombined_parentbody.csv\")"
      ],
      "metadata": {
        "id": "Lv_-8avYT1IP"
      },
      "execution_count": null,
      "outputs": []
    }
  ],
  "metadata": {
    "accelerator": "GPU",
    "colab": {
      "collapsed_sections": [],
      "provenance": []
    },
    "gpuClass": "standard",
    "kernelspec": {
      "display_name": "Python 3",
      "name": "python3"
    },
    "language_info": {
      "name": "python"
    }
  },
  "nbformat": 4,
  "nbformat_minor": 0
}