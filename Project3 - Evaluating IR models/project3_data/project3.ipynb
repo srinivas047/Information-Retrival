{
 "cells": [
  {
   "cell_type": "code",
   "execution_count": 25,
   "metadata": {},
   "outputs": [],
   "source": [
    "import pandas as pd  \n",
    "import json"
   ]
  },
  {
   "cell_type": "code",
   "execution_count": 26,
   "metadata": {},
   "outputs": [],
   "source": [
    "json_data = json.load(open(\"train.json\"))"
   ]
  },
  {
   "cell_type": "code",
   "execution_count": 36,
   "metadata": {},
   "outputs": [
    {
     "name": "stdout",
     "output_type": "stream",
     "text": [
      "lang <class 'str'>\n",
      "text_de <class 'str'>\n",
      "text_en <class 'str'>\n",
      "tweet_urls <class 'list'>\n",
      "text_ru <class 'str'>\n",
      "id <class 'int'>\n",
      "tweet_hashtags <class 'list'>\n"
     ]
    }
   ],
   "source": [
    "for i in json_data[0]:\n",
    "    print(i, type(json_data[0][i]))"
   ]
  },
  {
   "cell_type": "code",
   "execution_count": 50,
   "metadata": {},
   "outputs": [],
   "source": [
    "\n",
    "import json\n",
    "import urllib.request\n",
    "import urllib.parse\n",
    "import subprocess\n",
    "import os\n",
    "import pandas as pd\n",
    "import re\n",
    "from nltk.corpus import stopwords\n",
    "import nltk\n",
    "from nltk.stem import PorterStemmer"
   ]
  },
  {
   "cell_type": "code",
   "execution_count": 60,
   "metadata": {},
   "outputs": [],
   "source": [
    "# Removing stopwords\n",
    "stop_words = set(stopwords.words('english')) \n",
    "def removeStopwords(tokens):\n",
    "    filtered_sentence = []\n",
    "    for w in tokens:\n",
    "        if w not in stop_words:\n",
    "            filtered_sentence.append(w)\n",
    "    \n",
    "    return filtered_sentence\n",
    "\n",
    "#Porter Stemming\n",
    "ps = PorterStemmer()\n",
    "def stemming(tokens):\n",
    "    stemmed_tokens = []\n",
    "    for w in tokens:\n",
    "        stemmed_tokens.append(ps.stem(w))\n",
    "    \n",
    "    return stemmed_tokens\n",
    "\n",
    "def processingQueries(query):\n",
    "    # Pre Processing\n",
    "    # 1. Removed special characters\n",
    "    # 2. Removed excess white spaces\n",
    "    # 3. Whitespace tokenization\n",
    "    # 4. Removed stopwords\n",
    "    # 5. Performed Porter Stemming\n",
    "    removed_text = re.sub('[^a-zA-Z.\\d\\s]', ' ', query)\n",
    "    removing_extra_spaces = re.sub('\\s{2,}', ' ', removed_text)\n",
    "    stripped = removing_extra_spaces.strip()\n",
    "    tokens = re.split('\\s+', stripped)\n",
    "    removed_stopwords = removeStopwords(tokens)\n",
    "    stemmed_tokens = stemming(removed_stopwords)\n",
    "    \n",
    "    return stemmed_tokens"
   ]
  },
  {
   "cell_type": "code",
   "execution_count": 64,
   "metadata": {},
   "outputs": [
    {
     "name": "stdout",
     "output_type": "stream",
     "text": [
      "intervent%20syria\n",
      "air%20drop%2050%20ton%20ammo%20syria\n",
      "european%20refuge%20crisi%20syria%20explain%20anim\n",
      "fl%20chtlingskris%20angela%20merkel%20st%20rzt%20umfragen\n",
      "\n",
      "kill%20top%20iranian%20gener%20syria\n",
      "cameron%20urg%20ensur%20vulner%20syrian%20refuge%20settl%20winter\n",
      "free%20media%20hub\n",
      "\n",
      "salma%20latakia\n",
      "afp%20photojournalist%20ari%20messini\n",
      "fl%20chtling%20bedankt%20sich%20per%20video%20botschaft%20bei%20til%20schweiger\n",
      "instacart%20kickstart%20launch%20campaign%20fund%20refuge%20relief\n",
      "year%20old%20palestinian%20boy%20die\n",
      "medvedev%20deleg%20coordin%20anti%20terrorist%20action\n"
     ]
    }
   ],
   "source": [
    "with open(\"queries.txt\", encoding=\"utf-8\") as inputFile:\n",
    "    for line in inputFile:\n",
    "        processed = processingQueries(line)\n",
    "\n",
    "        queryID = processed[0]\n",
    "        query = ' '.join(processed[1:])\n",
    "        query = urllib.parse.quote(query)\n",
    "        print(query)\n",
    "        \n",
    "\n",
    "        "
   ]
  },
  {
   "cell_type": "code",
   "execution_count": null,
   "metadata": {},
   "outputs": [],
   "source": [
    "inurl_bm25 = 'http://localhost:8983/solr/'+ model +'/select?defType=edismax&fl=id,score&indent=on&q=' + query + '&qf='+ weight +'&rows=' + numsdocs + '&wt=json'\t\n",
    "data = urllib.request.urlopen(inurl_bm25).read()\n",
    "docs = json.loads(data.decode('utf-8'))['response']['docs']"
   ]
  },
  {
   "cell_type": "code",
   "execution_count": 18,
   "metadata": {},
   "outputs": [
    {
     "name": "stdout",
     "output_type": "stream",
     "text": [
      "Good Morning!\n"
     ]
    }
   ],
   "source": [
    "from translate import Translator\n",
    "# translator = Translator()\n",
    "\n",
    "translator= Translator(to_lang=\"Russian\")\n",
    "translation = translator.translate(\"Good Morning!\")\n",
    "print(translation)"
   ]
  },
  {
   "cell_type": "code",
   "execution_count": 19,
   "metadata": {},
   "outputs": [
    {
     "data": {
      "text/plain": [
       "'de'"
      ]
     },
     "execution_count": 19,
     "metadata": {},
     "output_type": "execute_result"
    }
   ],
   "source": [
    "from langdetect import detect\n",
    "detect(\"Putins Angriffe in Syrien - Assad und ISIS auf dem Vormarsch http://t.co/VWJ0QTo89x\")\n"
   ]
  }
 ],
 "metadata": {
  "interpreter": {
   "hash": "31f2aee4e71d21fbe5cf8b01ff0e069b9275f58929596ceb00d14d90e3e16cd6"
  },
  "kernelspec": {
   "display_name": "Python 3.8.9 64-bit",
   "language": "python",
   "name": "python3"
  },
  "language_info": {
   "codemirror_mode": {
    "name": "ipython",
    "version": 3
   },
   "file_extension": ".py",
   "mimetype": "text/x-python",
   "name": "python",
   "nbconvert_exporter": "python",
   "pygments_lexer": "ipython3",
   "version": "3.8.9"
  },
  "orig_nbformat": 4
 },
 "nbformat": 4,
 "nbformat_minor": 2
}
